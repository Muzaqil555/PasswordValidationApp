{
 "cells": [
  {
   "metadata": {},
   "cell_type": "markdown",
   "source": "markdown.jpynb",
   "id": "d7d2d9b3ac1f22fe"
  },
  {
   "metadata": {},
   "cell_type": "markdown",
   "source": "This notebook demonstrates basic data science exercises.",
   "id": "2dc5c6d1b17b8ebb"
  },
  {
   "metadata": {},
   "cell_type": "markdown",
   "source": [
    "1. Python\n",
    "2. R\n",
    "3. SQL\n"
   ],
   "id": "422ba44405fa06b1"
  },
  {
   "metadata": {},
   "cell_type": "markdown",
   "source": "NumPy, Pandas, Matplotlib, Scikit-learn",
   "id": "50f8cae0f583b225"
  },
  {
   "metadata": {},
   "cell_type": "markdown",
   "source": [
    "| Tool      | Purpose              |\n",
    "|-----------|--------------------|\n",
    "| Jupyter   | Notebook environment |\n",
    "| GitHub    | Version control      |\n",
    "| VS Code   | Code editor          |\n"
   ],
   "id": "3545d58f686ccab9"
  },
  {
   "metadata": {},
   "cell_type": "markdown",
   "source": "The arithmetic examples are shown below.",
   "id": "ddf6106f08e38a3a"
  },
  {
   "metadata": {
    "ExecuteTime": {
     "end_time": "2025-09-26T10:33:15.638750Z",
     "start_time": "2025-09-26T10:33:15.635192Z"
    }
   },
   "cell_type": "code",
   "source": [
    "a=5\n",
    "b=6\n",
    "c=a+b\n",
    "d=a*b\n",
    "print(c)\n",
    "print(d)"
   ],
   "id": "63ffa3bb395c5e98",
   "outputs": [
    {
     "name": "stdout",
     "output_type": "stream",
     "text": [
      "11\n",
      "30\n"
     ]
    }
   ],
   "execution_count": 2
  },
  {
   "metadata": {
    "ExecuteTime": {
     "end_time": "2025-09-26T10:51:26.753875Z",
     "start_time": "2025-09-26T10:51:26.750307Z"
    }
   },
   "cell_type": "code",
   "source": [
    "minutes = 135\n",
    "hours = minutes / 60\n",
    "print(minutes, \"dakika =\", hours, \"saat\")\n"
   ],
   "id": "37c23d673c07eede",
   "outputs": [
    {
     "name": "stdout",
     "output_type": "stream",
     "text": [
      "135 dakika = 2.25 saat\n"
     ]
    }
   ],
   "execution_count": 5
  },
  {
   "metadata": {},
   "cell_type": "markdown",
   "source": [
    "- Learn Python\n",
    "- Practice ML\n",
    "- Explore Data Science tools\n"
   ],
   "id": "4f94ef07b92890ad"
  },
  {
   "metadata": {},
   "cell_type": "markdown",
   "source": "Author: Muzaqil Hesenli\n",
   "id": "6fb62bcaf93475f5"
  },
  {
   "metadata": {},
   "cell_type": "code",
   "outputs": [],
   "execution_count": null,
   "source": "",
   "id": "2cda470c46fbeb5a"
  }
 ],
 "metadata": {
  "kernelspec": {
   "display_name": "Python 3",
   "language": "python",
   "name": "python3"
  },
  "language_info": {
   "codemirror_mode": {
    "name": "ipython",
    "version": 2
   },
   "file_extension": ".py",
   "mimetype": "text/x-python",
   "name": "python",
   "nbconvert_exporter": "python",
   "pygments_lexer": "ipython2",
   "version": "2.7.6"
  }
 },
 "nbformat": 4,
 "nbformat_minor": 5
}
